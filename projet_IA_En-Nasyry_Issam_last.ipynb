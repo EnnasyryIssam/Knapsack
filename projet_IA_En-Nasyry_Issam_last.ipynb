{
 "cells": [
  {
   "cell_type": "markdown",
   "metadata": {},
   "source": [
    "<h1><center><strong>Travail Complémentaire Intelligence Artificielle</strong></center></h1>\n",
    "\n",
    "* Réalisé par : Mr. EN-NASYRY Issam\n",
    "* Encadré par : Mme. GUIBADJ Rym"
   ]
  },
  {
   "attachments": {},
   "cell_type": "markdown",
   "metadata": {},
   "source": [
    "## Table de matières\n",
    "0. Problème de sac à dos \n",
    "1. Algorithme A* \n",
    "    * Descirption de l'algorithme \n",
    "    * Application au problème de sac à dos\n",
    "2. Algorithme génétique\n",
    "    * Descirption de l'algorithme \n",
    "    * Application au problème de sac à dos\n",
    "3. Algorithme Alpha-beta\n",
    "    * Descirption de l'algorithme \n",
    "    * Application au problème de sac à dos\n",
    "4. Evaluation des trois algorithmes \n",
    "    * Génération des données \n",
    "    * Evaluation des algorithmes \n",
    "    * Discussion sur l'algorithme génétique\n"
   ]
  },
  {
   "attachments": {},
   "cell_type": "markdown",
   "metadata": {},
   "source": [
    "# 1. Problème de sac à dos \n",
    "Le problème du sac à dos (Knapsack Problem) est un problème classique d’optimisation combinatoire appartenent à la classse NP-complet. Il tire son nom d’une situation à laquelle est souvent confronté un randonneur au moment de remplir son sac à dos : celui-ci dispose de n objets, caractérisés chacun par une utilité (profit) pi et un poids (weight) wi, compte tenu d’un poids W fixé à l’avance à ne pas dépasser, le randonneur cherche à déterminer les objets qu’il va emporter de façon à maximiser l’utilité totale des objets emportés sans dépasser la limite prescrite W pour le poids"
   ]
  },
  {
   "attachments": {},
   "cell_type": "markdown",
   "metadata": {},
   "source": [
    "import dependencies"
   ]
  },
  {
   "cell_type": "code",
   "execution_count": 230,
   "metadata": {},
   "outputs": [],
   "source": [
    "import networkx as nx\n",
    "import matplotlib.pyplot as plt\n",
    "import heapq\n",
    "import random"
   ]
  },
  {
   "attachments": {},
   "cell_type": "markdown",
   "metadata": {},
   "source": [
    "# 2. Algorithme A*"
   ]
  },
  {
   "attachments": {},
   "cell_type": "markdown",
   "metadata": {},
   "source": [
    "## 2.1 Description de l'algorithme \n",
    "<p class=\"last\">\n",
    "L'algorithme A* est un algorithme pour trouver le chemin le plus court entre deux sommets d'un graphe orienté pondéré en utilisant des estimations de coûts pour guider la recherche. \n",
    "</p>\n",
    "\n",
    "L'algorithme prend comme données : \n",
    "* `\"graph\"` une graphe G = (V,A) représenté par une matrice d'agjacence (adj_matrix), avec V = num_vertices et A l'ensemble des arcs. \n",
    "* `\"debut\"` : indice du sommet de départ. \n",
    "* `\"fin\"` : indice du sommet d'arrivé.    \n",
    "\n",
    "Les variables dont nous aurons besoin pour cet algorithme sont : \n",
    "* `\"open_set\"` : une liste d'attente des sommets à visiter. Elle est représentée par un tas, pour une optimisation de la mémoire. Les noeuds sont triées par rapport à leurs coûts.   \n",
    "* `\"explored_set\"` : liste des sommets déjà exploités. \n",
    "* `\"CP_values\"` : un dictionnaire pour stocker les coûts et les prédécesseurs de chaque sommet. \n",
    "* `\"current_node\"` : indice du sommet en cours d'exploitation. \n",
    "* `\"neighbors\"` : liste de voisins du sommet en cours qui ne sont déjà dans le chemin\n",
    "* `\"current_cost\"` : le coûts du sommet en cours d'exploitation. \n",
    "\n",
    "Les étapes de l'algorithme sont :\n",
    "* initiliser les listes d'attentes et de noeuds exploités par des listes vide. \n",
    "* intiliser le dictionnaire par des couts infini et des prédécesseur vide sauf pour le sommet de départ. \n",
    "* initiliser la liste d'attente (le tas) par le sommet de départ. \n",
    "* tant que la liste d'attente n'est pas vide \n",
    "    * chercher dans le tas le noeuds ayant le moindre coût. \n",
    "    * exploiter tous les voisins du sommet en cours, calcule les coûts réel et estimé pour chaque sommet voisin.\n",
    "    * calculer pour chaque voisin le coût pour l'atteindre à travers le sommet en cours, \n",
    "    * ajouter un voisin v dans la liste d'attente si le coût calculé est inférieur au coût renseigné dans le disctionnaire\n",
    "    * ajouter le noeud en cours à la liste des noeuds exploités. \n",
    "</div>\n",
    "\n",
    "<blockquote class=\"comment\">\n",
    "<strong style=\"text-decoration:underline;display:block\">Représentation d'un graphe</strong>\n",
    "Il s'agit d'une matrice carrée qui dimension égale au nombre de sommets du graphe. \n",
    "\n",
    "Pour chaque case d'indice i et j, la valeur associé représente le poids de l'arc allant du sommet i vers le sommet j. Si la valeur est égale à zéro, cela signifie que ces deux sommets ne sont pas adjacents. \n",
    "</blockquote>"
   ]
  },
  {
   "cell_type": "code",
   "execution_count": 231,
   "metadata": {},
   "outputs": [],
   "source": [
    "class Graph:\n",
    "    def __init__(self, num_vertices):\n",
    "        \"\"\" cette methode est la constructeur par defaut qui permet de créer la matrice d'adjacence et de l'intiliser par des zéros  \"\"\"\n",
    "        self.num_vertices = num_vertices\n",
    "        self.adj_matrix = [[0] * num_vertices for _ in range(num_vertices)]\n",
    "\n",
    "    def add_edge(self, from_vertex, to_vertex, weight=1):\n",
    "        \"\"\" cette méthode permet d'ajouter un arc entre deux sommets avec le poids donné \"\"\"\n",
    "        self.adj_matrix[from_vertex][to_vertex] = weight\n",
    "\n",
    "    def display(self):\n",
    "        \"\"\" cette méthode pour afficher la matrice d'adjacence \"\"\"\n",
    "        for row in self.adj_matrix:\n",
    "            print(row)\n",
    "    def draw_graph(self):\n",
    "        \"\"\" cette methode pour afficher graphiquement le graphe \"\"\"\n",
    "        G = nx.DiGraph()\n",
    "        for from_vertex in range(self.num_vertices):\n",
    "            for to_vertex in range(self.num_vertices):\n",
    "                weight = self.adj_matrix[from_vertex][to_vertex]\n",
    "                if weight != 0:\n",
    "                    G.add_edge(from_vertex, to_vertex, weight=weight)\n",
    "\n",
    "        pos = nx.circular_layout(G)\n",
    "        # Formatage des étiquettes des arêtes avec deux chiffres après la virgule\n",
    "        edge_labels = {(u, v): f\"{d['weight']:.2f}\" for u, v, d in G.edges(data=True)}\n",
    "\n",
    "        labels = nx.get_edge_attributes(G, 'weight')\n",
    "        nx.draw(G, pos, with_labels=True, node_size=700, node_color=\"skyblue\", font_size=8, font_color=\"black\", font_weight=\"bold\")\n",
    "        nx.draw_networkx_edge_labels(G, pos, edge_labels=edge_labels)\n",
    "        plt.show()"
   ]
  },
  {
   "cell_type": "code",
   "execution_count": 232,
   "metadata": {},
   "outputs": [],
   "source": [
    "def heuristic(node, goal):\n",
    "    \"\"\" cette méthode calcul les coûts estimés d'un noeud \"\"\"\n",
    "    return abs(node - goal)"
   ]
  },
  {
   "cell_type": "code",
   "execution_count": 233,
   "metadata": {},
   "outputs": [],
   "source": [
    "class Astar:\n",
    "    \"\"\" class de l'algorithme Astar\"\"\"\n",
    "    def __init__(self, graph, debut, fin):\n",
    "        self.graph = graph\n",
    "        self.debut = debut\n",
    "        self.fin = fin\n",
    "\n",
    "    def launch(self):\n",
    "        # initialisation des listes de noeuds en attentes et noeuds exploités \n",
    "        open_set = []  \n",
    "        explored_set = []\n",
    "\n",
    "        # initialisation du dictionnaire CP_values\n",
    "        CP_values = {node: (float('inf'), None) for node in range(self.graph.num_vertices)} \n",
    "        CP_values[self.debut] = (0, None)\n",
    "\n",
    "        # Initialiser le tas par le sommet de départ \n",
    "        heapq.heappush(open_set, (heuristic(self.debut, self.fin), self.debut))\n",
    "\n",
    "        while open_set:\n",
    "            current_cost, current_node = heapq.heappop(open_set)\n",
    "\n",
    "            if current_node == self.fin:\n",
    "                path = []\n",
    "                node = current_node\n",
    "                while node is not None:\n",
    "                    path.insert(0, node)\n",
    "                    node = CP_values[node][1]\n",
    "                return path, CP_values[self.fin][0]\n",
    "\n",
    "            for neighbor, weight in enumerate(self.graph.adj_matrix[current_node]):\n",
    "                if weight != 0 and neighbor not in explored_set:\n",
    "                    reel_cost = CP_values[current_node][0] + weight # calculer le coût réel du voisin \n",
    "                    # si ce voisin à déjà un coût, c'est-à-dire que nous avons visité ce sommet par un autre noeud, nous allons donc comparer ces coûts. \n",
    "\n",
    "                    if reel_cost < CP_values[neighbor][0]: # si le cout réel est inférieur au cout estimé, alors nous allons ajouter ce noeud dans la liste d'attente à travers le neuds en cours. \n",
    "                        CP_values[neighbor] = (reel_cost, current_node)\n",
    "                        est_value = reel_cost + heuristic(neighbor, self.fin)\n",
    "                        heapq.heappush(open_set, (est_value, neighbor))\n",
    "\n",
    "            explored_set + [current_node]\n",
    "        return None  # Aucun chemin trouvé"
   ]
  },
  {
   "attachments": {},
   "cell_type": "markdown",
   "metadata": {},
   "source": [
    "## Test de fonctionnement\n",
    "Afin de tester le programme, j'ai considéré un graphe simple constitué de 4 sommets et deux chemins possibles pour arriver à la destination</p>"
   ]
  },
  {
   "cell_type": "code",
   "execution_count": 234,
   "metadata": {},
   "outputs": [
    {
     "data": {
      "image/png": "[encoded data removed]",
      "text/plain": [
       "<Figure size 640x480 with 1 Axes>"
      ]
     },
     "metadata": {},
     "output_type": "display_data"
    }
   ],
   "source": [
    "# Exemple d'utilisation avec le graphe précédent\n",
    "graph = Graph(4)\n",
    "graph.add_edge(0, 1, 2)\n",
    "graph.add_edge(1, 2, 3)\n",
    "graph.add_edge(2, 3, 1)\n",
    "graph.add_edge(0, 2, 10)\n",
    "\n",
    "graph.draw_graph()"
   ]
  },
  {
   "attachments": {},
   "cell_type": "markdown",
   "metadata": {},
   "source": [
    "<div class=\"admonition tip alert alert-warning\">\n",
    "<p class=\"first admonition-title\" style=\"font-weight: bold;\">Question :</p>\n",
    "<p class=\"last\">\n",
    "Quel est le chemin optimal pour aller du sommet '0' au sommet '3' ?\n",
    "</p>\n",
    "</div>"
   ]
  },
  {
   "cell_type": "code",
   "execution_count": 235,
   "metadata": {},
   "outputs": [
    {
     "name": "stdout",
     "output_type": "stream",
     "text": [
      "Shortest path: [0, 1, 2, 3]\n",
      "Total cost: 6\n"
     ]
    }
   ],
   "source": [
    "start_node = 0\n",
    "goal_node = 3\n",
    "\n",
    "A = Astar(graph, start_node, goal_node)\n",
    "\n",
    "if A.launch():\n",
    "    path, cost = A.launch()\n",
    "    print(\"Shortest path:\", path)\n",
    "    print(\"Total cost:\", cost)\n",
    "else:\n",
    "    print(\"No path found.\")"
   ]
  },
  {
   "attachments": {},
   "cell_type": "markdown",
   "metadata": {},
   "source": [
    "<div class=\"admonition tip alert alert-warning\">\n",
    "<p class=\"first admonition-title\" style=\"font-weight: bold;\">Réponse :</p>\n",
    "<p class=\"last\">\n",
    "Après execution du programme, nous avons obtenu le chemin 0 -<> 1 -<> 2 -<> 3 \n",
    "\n",
    "L'algorithme a effectivement trouvé le chemin le plus court pour arriver au sommet '3'\n",
    "</p>\n",
    "</div>"
   ]
  },
  {
   "attachments": {},
   "cell_type": "markdown",
   "metadata": {},
   "source": [
    "## 2.2 Application au problème de sac à dos \n",
    "\n",
    "Le problème du sac à dos peut se représenter par un graphe orienté et sans circuit, où nous associons un sommet à chaque état du sac (son poids), nous rajoutons deux\n",
    "sommets artificiels : le sommet source s (de départ) et le sommet puits t (pour la fin).\n",
    "\n",
    "Un arc qui relie un sommet A vers un sommet B signifie qu’on a ajouté un objet, ce qui fait que le poids du sac passe de l’état A à l’état B. Ainsi la valeur de l’arc peut être vue\n",
    "comme 1/ la valeur de l’objet ajouté (car A* cherche le chemin le plus court donc on a besoin de prendre les chemin les plus rentable => plus la valeur de l'objet est grande, le poids de l'arc sera petit). "
   ]
  },
  {
   "cell_type": "code",
   "execution_count": 236,
   "metadata": {},
   "outputs": [],
   "source": [
    "class knapsack_graph:\n",
    "    def __init__(self, values, weights, capacity):\n",
    "        self.values = values\n",
    "        self.max_value = max(values) + 10 \n",
    "        self.weights = weights\n",
    "        self.capacity = capacity\n",
    "        self.states = [(0, 0)] * 2 * len(values)  # object_index and current_sac_weight \n",
    "        self.graph = Graph(len(self.states)+2) # +2 pour ajouter les sommets source et puit (indice de source est 0 indice de puit est 2*n+1)\n",
    "\n",
    "    def explore_state(self, object_index, current_state, current_weight):\n",
    "        self.graph.add_edge(current_state, 2*object_index+2, 1)\n",
    "\n",
    "        if(current_weight + self.weights[object_index] <= self.capacity):\n",
    "            self.graph.add_edge(current_state, 2*object_index+1, 1/self.values[object_index])\n",
    "\n",
    "        if(object_index != len(self.values) -1):\n",
    "            self.explore_state(object_index+1, 2*object_index+1, current_weight + self.weights[object_index])\n",
    "            self.explore_state(object_index+1, 2*object_index+2, current_weight)\n",
    "        else:\n",
    "            self.graph.add_edge(2*object_index+1, len(self.states)+1, 1)\n",
    "            self.graph.add_edge(2*object_index+2, len(self.states)+1, 1)"
   ]
  },
  {
   "attachments": {},
   "cell_type": "markdown",
   "metadata": {},
   "source": [
    "Simple exemple d'excution"
   ]
  },
  {
   "cell_type": "code",
   "execution_count": 237,
   "metadata": {},
   "outputs": [],
   "source": [
    "values = [6, 50, 2]\n",
    "weights = [10, 20, 30]\n",
    "capacity = 50"
   ]
  },
  {
   "attachments": {},
   "cell_type": "markdown",
   "metadata": {},
   "source": [
    "Etape 1 : Construire le graphe associé "
   ]
  },
  {
   "cell_type": "code",
   "execution_count": 238,
   "metadata": {},
   "outputs": [
    {
     "data": {
      "image/png": "[encoded data removed]",
      "text/plain": [
       "<Figure size 640x480 with 1 Axes>"
      ]
     },
     "metadata": {},
     "output_type": "display_data"
    }
   ],
   "source": [
    "KP = knapsack_graph(values,weights,capacity)\n",
    "KP.explore_state(0,0,0)\n",
    "KP.graph.draw_graph()"
   ]
  },
  {
   "attachments": {},
   "cell_type": "markdown",
   "metadata": {},
   "source": [
    "<blockquote class=\"comment\">\n",
    "<strong style=\"text-decoration:underline;display:block\">Note</strong>\n",
    "La fonction heuristique qui calcule les coûts estimée pour l'algorithme A* doit également être redéfinie pour être coohérente avec le problème de sac à dos. \n",
    "\n",
    "Dans la nouvelle fonction de calcul des coûts estimés, la valeur retournée pour chaque sommet est égales à la somme des poids des objets restants. \n",
    "\n",
    "\n",
    "</blockquote>"
   ]
  },
  {
   "attachments": {},
   "cell_type": "markdown",
   "metadata": {},
   "source": [
    "Etape 2 : Définir la fonction heuristique qui calcule les coûts estimé pour chaque noeud"
   ]
  },
  {
   "cell_type": "code",
   "execution_count": 268,
   "metadata": {},
   "outputs": [],
   "source": [
    "def heuristic(node, goal):\n",
    "    \"\"\" cette méthode calcul les coûts estimés d'un noeud \"\"\"\n",
    "    return sum(list(values.values())[node:])"
   ]
  },
  {
   "attachments": {},
   "cell_type": "markdown",
   "metadata": {},
   "source": [
    "Etape 3 : lancer la recherche du plus court chemin entre le noeud '0' et le dernier noeud du graphe 'len(states)+1' = '7'"
   ]
  },
  {
   "cell_type": "code",
   "execution_count": 240,
   "metadata": {},
   "outputs": [
    {
     "name": "stdout",
     "output_type": "stream",
     "text": [
      "Shortest path: [0, 2, 3, 5, 7]\n",
      "Total cost: 2.52\n",
      "[6, 50, 2]\n",
      "[10, 20, 30]\n"
     ]
    }
   ],
   "source": [
    "start_node = 0\n",
    "goal_node = 7\n",
    "\n",
    "A = Astar(KP.graph, start_node, goal_node)\n",
    "\n",
    "if A.launch():\n",
    "    path, cost = A.launch()\n",
    "    print(\"Shortest path:\", path)\n",
    "    print(\"Total cost:\", cost)\n",
    "else:\n",
    "    print(\"No path found.\")\n",
    "\n",
    "print(values)\n",
    "print(weights)"
   ]
  },
  {
   "attachments": {},
   "cell_type": "markdown",
   "metadata": {},
   "source": [
    "Le chemin trouvé est [0, 1, 3, 5, 7] ce qui signifie que l'objet 1 et 2 sont selectionnés, et 3 n'est pas selectionné. la valeur du sac est donc 56."
   ]
  },
  {
   "attachments": {},
   "cell_type": "markdown",
   "metadata": {},
   "source": [
    "# 3. Algorithme génétique"
   ]
  },
  {
   "attachments": {},
   "cell_type": "markdown",
   "metadata": {},
   "source": [
    "## 3.1 Description de l'algorithme\n",
    "<p class=\"last\">\n",
    "L'algorithme génétique est une métaheuristique introduite pas Holland in 1975. C'est une classe d'algorithmes d'optimisation inspirés par la théorie de l'évolution de Darwin et les mécanismes génétiques observés dans la nature. Le principe des algorithmes génétiques consiste à effectuer des opérations sur un ensemble d'individus appelés chromosomes. Chaque chromosome est une liste de gènes avec une valeur binaire. Un chromosome représente une solution possible au problème traité. La recherche de la solution se fait en quatre étapes : \n",
    "\n",
    "1- `Codage` : Dans le cas général, il n’y a pas de représentation absolue. Le codage se fait selon les caractéristiques du problème. Ainsi l’encodage d’un problème peut aller de la simple chaîne  binaire, à un arbre en passant par les listes chainées. \n",
    "\n",
    "2- `Évaluation et sélection` : Les individus de la population sont évalués en fonction d'une certaine fonction d'aptitude appelée <em>fitness</em>, généralement la fonction objective du problème. Les chromosomes ayant une meilleure aptitude ont plus de chances d'être sélectionnés pour se reproduire. \n",
    "\n",
    "3- `Reproduction (croisement et mutation)` : Les meilleurs membres de la population sont sélectivement croisés par paires et mutés pour produire une descendance. \n",
    "    \n",
    "* Le croisement consiste à échanger des parties des chromosomes parents pour créer des chromosomes enfants. De nombreux types d'algorithmes ont été développés, tels que le croisement en un point, le croisement en k points, la préservation du contexte, etc. \n",
    "\n",
    "* La mutation introduit des changements aléatoires dans les chromosomes afin d'explorer de nouvelles solutions potentielles et éviter les optimums locaux. \n",
    "\n",
    "4- Remplacement : Les nouveaux chromosomes résultant de ces opérations forment la population de la génération suivante et le processus est répété jusqu'à ce que le système cesse de s'améliorer. On peut suggérer de remplacer tous les parents sélectionnés ou de remplacer les individus les plus pauvres de la population actuelle ou même de remplacer les individus les plus âgés de la population actuelle (mais cela nécessite la préservation de l'information sur la durée de vie de chaque individu). Il convient de noter que cette étape est cruciale car le remplacement d'un individu implique la perte d'informations ou, en d'autres termes, peut entraîner la perte d'une solution potentiellement précieuse. Par conséquent, la sélection des individus doit être effectuée avec soin.\n",
    "</p> \n",
    "\n",
    "Les paramètres de l'algorithme génétique sont : \n",
    "* `\"population_size\"` : La taille de la population.\n",
    "* `\"generation_size\"` : le nombre d'itérations. \n",
    "* `\"crossover_rate\"` : le taux de croisement des individus.  \n",
    "* `\"mutation_rate\"` : le taux de mutation des individus. \n",
    "\n",
    "Les variables de l'algorithmes sont: \n",
    "* `\"population\"` : une liste d'individus dont chacun représente une solution réalisable du problème à traiter.  \n",
    "* `\"fitness_scores\"` : liste des fitness des individus de la population. \n",
    "* `\"selected_parents\"` : les individus selectionnés pendant l'itération en cours.\n",
    "* `\"new_population\"` : la nouvelle liste d'individus générée pendant l'itération en cours. \n",
    "\n",
    "Les étapes de l'algorithme sont :\n",
    "* créer la population initiale : la population doit être non homogène et servira de base pour les générations futures \n",
    "* tant que le nombre des itérations n'est pas atteint faire   \n",
    "    *  évaluer les individus par rapport à la fonction objectif.  \n",
    "    * selectionner les 50% des meilleurs individus. \n",
    "    * faire le croisement entre deux individus aléatoire de la population selectionnée.  \n",
    "    * faire la mutation des nouveaux individus produits par le croisement (enfants) \n",
    "    * remplacer les individus de la population par les enfants produits durant cette itération. \n",
    "</div>\n",
    "\n",
    "<blockquote class=\"comment\">\n",
    "<strong style=\"text-decoration:underline;display:block\">Représentation d'un individu</strong>\n",
    "Il s'agit d'une liste de gènes booléens (True ou False).  \n",
    "</blockquote>"
   ]
  },
  {
   "attachments": {},
   "cell_type": "markdown",
   "metadata": {},
   "source": [
    "## 3.2 Application au problème de sac à dos \n",
    "\n",
    "1- Codage : Dans notre algorithme, nous utilisons un codage binaire. Nous représentons une solution par une chaîne de bits, dont chaque élément représente un objet avec la notation \n",
    "suivante :\n",
    "*  1 si l’objet est mis dans le sac \n",
    "*  0 sinon\n",
    "\n",
    "![Predictor fit diagram](codage_AG.png)\n",
    "\n",
    "2- Selection et évaluation : Dans notre algorithme, la selection consiste à choisir les 50% meilleurs individus de la population. L'évaluation des individus se fait en calculant la valeur du sac. \n",
    "\n",
    "3- Croisement : à un point en reprenant des parties de chaque individu parent pour créer un nouvel individu enfant. \n",
    "\n",
    "![Predictor fit diagram](croisement_AG.png)\n",
    "\n",
    "Dans certains cas, il se peut que le croisement fournis des enfants qui représentent des  solutions non réalisables pour notre problème, autrement dit, le poids total des objets mis dans le sac dépassent la capacité du sac. Pour remédier à cela, nous proposons un croisement à un point avec correction. C'est-à-dire, après le croisement nous effectuons une opération de correction des individus créés, qui consiste à supprimer des objets aléatoirement du sac tant que le poids total dépasse la capacité du sac. \n",
    "\n",
    "4- Mutation : changer aléatoirement un gène d'un individu. "
   ]
  },
  {
   "cell_type": "code",
   "execution_count": 241,
   "metadata": {},
   "outputs": [],
   "source": [
    "import random\n",
    "class AG:\n",
    "    \"\"\" class de l'algorithme génétique \"\"\"\n",
    "    def __init__(self, values, weights, capacity, population_size, generations_size, crossover_rate, mutation_rate):\n",
    "        self.values = values\n",
    "        self.weights = weights\n",
    "        self.capacity = capacity\n",
    "        self.population_size = population_size\n",
    "        self.generations_size = generations_size\n",
    "        self.crossover_rate = crossover_rate\n",
    "        self.mutation_rate = mutation_rate\n",
    "        self.population = []\n",
    "        \n",
    "    #@lru_cache(maxsize=None)   # cette commande pour optimiser le temps de calcul \n",
    "    def weight_(self, sac):\n",
    "        \"\"\"\n",
    "        Cette fonction renvoie la somme des poids des objets dans le sac\n",
    "        \"\"\"\n",
    "        return sum(weights[i] for i, val in enumerate(sac) if val) \n",
    "    \n",
    "    #@lru_cache(maxsize=None)\n",
    "    def value_(self, sac):\n",
    "        \"\"\"\n",
    "        Cette fonction renvoie la somme des valeurs des objets dans le sac\n",
    "        \"\"\"\n",
    "        return sum(values[i] for i, val in enumerate(sac) if val)\n",
    "\n",
    "    def create_individual(self):\n",
    "        \"\"\"\n",
    "        Cette fonction génère une solution aléatoires (selectionne aléatoirement des objets puis verfie que la solution est réalisable).\n",
    "        \n",
    "        Renvoie une solution\n",
    "        \"\"\"\n",
    "        sac = tuple(random.choice([False, True]) for _ in range(len(values))) \n",
    "                                                                       \n",
    "        while (self.weight_(sac) > capacity):                              \n",
    "            objets_presents = tuple(i for i, val in enumerate(sac) if val)                      \n",
    "            objet_supprime = random.choice(objets_presents)                 \n",
    "            sac = sac[:objet_supprime] + (False,) + sac[objet_supprime+1:] \n",
    "        return sac \n",
    "\n",
    "    def crossover(self, parent1, parent2):\n",
    "        \"\"\"\n",
    "        Cette fonction effectue un croisement en un point entre deux parents \n",
    "\n",
    "        Renvoie deux nouvelles solutions enfants \n",
    "        \"\"\"\n",
    "        if random.random() < self.crossover_rate:\n",
    "            length = len(parent1)\n",
    "            crossover_point = random.randint(1, length - 1)\n",
    "            child1 = parent1[:crossover_point] + parent2[crossover_point:]\n",
    "            child2 = parent2[:crossover_point] + parent1[crossover_point:]\n",
    "            child1 = self.correct_solution(child1)\n",
    "            child2 = self.correct_solution(child2)\n",
    "            return child1, child2\n",
    "        else:\n",
    "            return parent1, parent2\n",
    "\n",
    "    def mutate(self, individual):\n",
    "        \"\"\"\n",
    "        Cette méthode effectue une mutation d'un individu en permuttant la valeur d'un gène \n",
    "        \"\"\"\n",
    "        if random.random() < self.mutation_rate:\n",
    "            individual_list = list(individual)\n",
    "            mutation_point = random.randint(0, len(individual_list) - 1)\n",
    "            individual_list[mutation_point] = 1 - individual_list[mutation_point]\n",
    "            individual = tuple(individual_list)\n",
    "            individual = self.correct_solution(individual)\n",
    "        return individual\n",
    "     \n",
    "    def correct_solution(self, individual):\n",
    "        \"\"\"\n",
    "         Cette fonction applique des corrections pour s'assurer que la solution est réalisable\n",
    "        \"\"\"\n",
    "        while self.weight_(individual) > self.capacity:\n",
    "            individual_list = list(individual)\n",
    "            # Si la capacité est dépassée, désactivez un élément aléatoire jusqu'à ce qu'elle devient réalisable\n",
    "            index_to_disable = random.randint(0, len(individual) - 1)\n",
    "            individual_list[index_to_disable] = 0\n",
    "            # reconvertir en tuple \n",
    "            individual = tuple(individual_list)\n",
    "        return individual\n",
    "\n",
    "    def launch(self):\n",
    "        \"\"\"\n",
    "         Cette fonction est le processus général à travers plusieurs générations. \n",
    "        \"\"\"\n",
    "\n",
    "        # Générer une population initiale\n",
    "        self.population = [self.create_individual() for _ in range(self.population_size)]\n",
    "        \n",
    "        for it, generation in enumerate(range(self.generations_size)):\n",
    "            # Évaluer la fitness de chaque individu dans la population\n",
    "            fitness_scores = [self.value_(individual) for individual in self.population]\n",
    "            \n",
    "            # Sélectionner les meilleurs individus pour le croisement\n",
    "            selected_parents = [self.population[i] for i in sorted(range(len(fitness_scores)), key=lambda k: fitness_scores[k], reverse=True)[:self.population_size // 2]]\n",
    "            \n",
    "            # Créer la prochaine génération par croisement et mutation\n",
    "            new_population = []\n",
    "            while len(new_population) < self.population_size:\n",
    "                parent1, parent2 = random.sample(selected_parents, 2)\n",
    "                child1, child2 = self.crossover(parent1, parent2)\n",
    "                shild1 = self.mutate(child1)\n",
    "                child2 = self.mutate(child2)\n",
    "                new_population.extend([child1, child2])\n",
    "\n",
    "            self.population = new_population\n",
    "            \n",
    "        return max(self.population, key=lambda x: self.value_(x))"
   ]
  },
  {
   "attachments": {},
   "cell_type": "markdown",
   "metadata": {},
   "source": [
    "Exemple d'execution du la même instance précédente"
   ]
  },
  {
   "attachments": {},
   "cell_type": "markdown",
   "metadata": {},
   "source": [
    "Etape 1 : intialiser les paramètres de l'algorithme génétique"
   ]
  },
  {
   "cell_type": "code",
   "execution_count": 242,
   "metadata": {},
   "outputs": [],
   "source": [
    "population_size = 50\n",
    "generations_size = 100\n",
    "crossover_rate = 0.8\n",
    "mutation_rate = 0.2"
   ]
  },
  {
   "attachments": {},
   "cell_type": "markdown",
   "metadata": {},
   "source": [
    "Etape 2 : lancer la recherche de la solution par l'algorithme génétique"
   ]
  },
  {
   "cell_type": "code",
   "execution_count": 243,
   "metadata": {},
   "outputs": [
    {
     "name": "stdout",
     "output_type": "stream",
     "text": [
      "Meilleure solution : (True, True, 0)\n",
      "Valeur totale de la meilleure solution : 56\n"
     ]
    }
   ],
   "source": [
    "AG_knapsack = AG(values, weights, capacity, population_size, generations_size, crossover_rate, mutation_rate)\n",
    "best_solution = AG_knapsack.launch()\n",
    "\n",
    "print(\"Meilleure solution :\", best_solution)\n",
    "print(\"Valeur totale de la meilleure solution :\", AG_knapsack.value_(best_solution))"
   ]
  },
  {
   "attachments": {},
   "cell_type": "markdown",
   "metadata": {},
   "source": [
    "# 4. Alpgorithme alpha-beta"
   ]
  },
  {
   "attachments": {},
   "cell_type": "markdown",
   "metadata": {},
   "source": [
    "## 4.1 Description de l'algorithme\n",
    "<p class=\"last\">\n",
    "L'algorithme Alpha-Beta est une technique d'optimisation. Son objectif est de réduire le nombre de nœuds a exploiter dans l'arbre, ce qui permet d'accélérer la recherche sans éliminer la solution optimale.\n",
    "</p> \n",
    "\n",
    "Les variables de l'algorithmes sont: \n",
    "* `\"alpha\"` : représente la meilleure solution obtenu jusqu'à présent.  \n",
    "* `\"beta\"` : représente la pire solution obtenu jusqu'à présent. \n",
    "\n",
    "Les étapes de l'algorithme sont :\n",
    "* Pour chaque noeuds de l'arbre :\n",
    "    * exploiter les successeurs du noeud en cours\n",
    "    * si les enfants sont des feuilles (dernier niveau de l'arbre) alors on retourne sa valeur\n",
    "    * sinon nous exploitons chaque noeud fils\n",
    "    * mettre à jour les valeurs de alpha et beta en fonction du joueur en cours tel que :\n",
    "        * joueur1 actualise la valeur de alpha, sachant que le joueur1 cherche toujours à maximiser la valeur de alpha \n",
    "        * joueur2 actualise la valeur de beta , sachant que le joueur2 cherche toujours à minimiser la valeur de beta\n",
    "</div>\n",
    "\n",
    "<blockquote class=\"comment\">\n",
    "<strong style=\"text-decoration:underline;display:block\">Exploitation de l'arbre</strong>\n",
    "Pour exploiter les noeuds de l'arbre nous allons utiliser une fonction récursive qui parcour tout le graphe, cette approche est similaire à l'approache de la programmation dynamique mais en éliminant les noeuds inutiles.  \n",
    "\n",
    "La programmation dynamique est une approche générale qui se retrouve comme technique de résolution en recherche opérationnelle. Cette technique peut être appliquée quand les\n",
    "sous problèmes ont des sous sous problème en commun, ce qui est le cas pour le problème de sac à dos.\n",
    "</blockquote>"
   ]
  },
  {
   "attachments": {},
   "cell_type": "markdown",
   "metadata": {},
   "source": [
    "## 4.2 Application au problème de sac à dos\n",
    "\n",
    "On utilise une fonction dynamique <em>pruning</em> qui prend comme données l'indice de l'objet en cours, le poids actuel, la valeur du sac actuel et le type de joueur. La fonction retourne le gain maximum généré par le choix des <em>k</em> premiers objets dont la somme des poids ne dépasse pas la capacité maximale du sac. \n",
    "\n",
    "Chaque joueur peut mettre à jour la valeur alpha/beta en fonction de la valeur retournée par la fonction récursive, ceci nous permet d'éliminer quelques branches de l'arbre pour accélérer la recherche de la solution optimale.  "
   ]
  },
  {
   "cell_type": "code",
   "execution_count": 270,
   "metadata": {},
   "outputs": [],
   "source": [
    "class AlphaBeta:\n",
    "    def __init__(self, values, weights):\n",
    "        self.values = values\n",
    "        self.weights = weights\n",
    "        self.alpha = float('-inf')\n",
    "        self.beta = float('inf')\n",
    "    \n",
    "    def heuristique(self, current_value, index_object):\n",
    "        return current_value + sum(list(self.values.values())[:index_object])\n",
    "    \n",
    "    def pruning(self, index_object, capacity, value, is_maximizing_player):\n",
    "        if index_object == 0 :\n",
    "            return 0\n",
    "        else:\n",
    "            if(self.heuristique(value, index_object) < self.alpha):\n",
    "                return\n",
    "            if(capacity - self.weights[index_object-1] >= 0):\n",
    "                value = max(self.pruning(index_object-1, capacity - self.weights[index_object-1], value + self.values[index_object-1], not is_maximizing_player) + self.values[index_object-1],\n",
    "                            self.pruning(index_object-1, capacity, value, not is_maximizing_player))\n",
    "            else:\n",
    "                value = self.pruning(index_object-1, capacity, value, not is_maximizing_player)\n",
    "\n",
    "            \n",
    "            if(is_maximizing_player):\n",
    "                alpha = max(value, self.alpha)\n",
    "            else:\n",
    "                beta = min(value, self.beta)\n",
    "            return value"
   ]
  },
  {
   "cell_type": "code",
   "execution_count": 245,
   "metadata": {},
   "outputs": [
    {
     "name": "stdout",
     "output_type": "stream",
     "text": [
      "Maximum value: 56\n"
     ]
    }
   ],
   "source": [
    "alpha_beta_instance = AlphaBeta(values, weights)\n",
    "result = alpha_beta_instance.pruning(len(values),capacity, 0, False)\n",
    "print(\"Maximum value:\", result)"
   ]
  },
  {
   "attachments": {},
   "cell_type": "markdown",
   "metadata": {},
   "source": [
    "# 5. Evaluation des trois algorithmes"
   ]
  },
  {
   "attachments": {},
   "cell_type": "markdown",
   "metadata": {},
   "source": [
    "Dans les sections précédentes, les différents algorithmes sont testé sur une instance de 3 objets. \n",
    "\n",
    "Nous allons, dans cette partie, présenter les résultats expérimentaux obtenus sur plusieurs instances. \n",
    "\n",
    "Nous avons cherché pour les expérimentations à mettre en valeur l’influence du nombre d’objets et l’influence de la taille maximale du sac sur l’efficacité des algorithmes. Les\n",
    "résultats présentés ont été obtenus sur une moyenne de 10 instances de chaque nombre d’objets <em> n = {10,20,30,40,50,60,70,80,90,100} </em>"
   ]
  },
  {
   "attachments": {},
   "cell_type": "markdown",
   "metadata": {},
   "source": [
    "## 5.1 Génération des données\n",
    "\n",
    "Dans toutes les instances, les poids sont répartis uniformément dans un intervalle de [1, R], avec R = 100.\n",
    "\n",
    "Les groupes d’instances sont illustrés graphiquement ci-dessous.\n",
    "\n",
    "* Groupe 1 : Instance non corrélées :  les profits et les poids sont générés aléatoirement et indépendamment dans l’intervalle [1, R], dans ce cas, il n’y a pas de corrélation\n",
    "entre le profit et le poids des articles. les instances non corrélées sont généralement faciles à résoudre soit par l’utilisation de la borne supérieures ou par des relations\n",
    "de dominance.\n",
    "\n",
    "* Groupe 2 : Instance corréléess :  les poids sont répartis uniformément dans [1, R] et <em> vj = 5wj + 10 </em>."
   ]
  },
  {
   "cell_type": "code",
   "execution_count": 252,
   "metadata": {},
   "outputs": [],
   "source": [
    "def random_objects(nb_objets, weight_max, val_max):\n",
    "    \"\"\"\n",
    "    Cette fonction génère des objets de poids et de valeur aléatoires (bornés par les valeurs passées en parametre).\n",
    "    \n",
    "    Renvoie un tuple de 2 dictionnaires (poids,valeur)\n",
    "    \"\"\"\n",
    "    weights_objects ={i: random.randint(1, weight_max) for i in range(nb_objets)} \n",
    "    values_objects = {i: random.randint(1, val_max) for i in range(nb_objets)}  \n",
    "                                                                    \n",
    "    return weights_objects, values_objects\n",
    "\n",
    "def random_objects_correlated(nb_objets, weight_max):\n",
    "    \"\"\"\n",
    "    Cette fonction génère des objets de poids et de valeur aléatoires mais coorélées (bornés par les valeurs passées en parametre).\n",
    "    \n",
    "    Renvoie un tuple de 2 dictionnaires (poids,valeur)\n",
    "    \"\"\"\n",
    "    weights_objects ={i: random.randint(1, weight_max) for i in range(nb_objets)}\n",
    "    values_objects = {i: 5*weights_objects[i] + 10 for i in range(nb_objets)}\n",
    "    return weights_objects, values_objects\n",
    "\n"
   ]
  },
  {
   "cell_type": "code",
   "execution_count": 247,
   "metadata": {},
   "outputs": [
    {
     "data": {
      "text/plain": [
       "Text(0.5, 1.0, 'Groupe 2')"
      ]
     },
     "execution_count": 247,
     "metadata": {},
     "output_type": "execute_result"
    },
    {
     "data": {
      "image/png": "[encoded data removed]",
      "text/plain": [
       "<Figure size 1200x500 with 2 Axes>"
      ]
     },
     "metadata": {},
     "output_type": "display_data"
    }
   ],
   "source": [
    "import seaborn as sns\n",
    "\n",
    "columns = [\"Groupe 1\", \"Groupe 2\"]\n",
    "\n",
    "weights1, values1 = random_objects(100,100,100)\n",
    "weights2, values2 = random_objects_correlated(100,100)\n",
    "\n",
    "fig, axes = plt.subplots(nrows=1, ncols=2, figsize=(12, 5))\n",
    "\n",
    "# Scatter plot for Groupe 1\n",
    "sns.scatterplot(x=weights1.values(), y=values1.values(), alpha=0.5, ax=axes[0])\n",
    "axes[0].set_title(columns[0])\n",
    "\n",
    "# Scatter plot for Groupe 2\n",
    "sns.scatterplot(x=weights2.values(), y=values2.values(), alpha=0.5, ax=axes[1])\n",
    "axes[1].set_title(columns[1])\n"
   ]
  },
  {
   "attachments": {},
   "cell_type": "markdown",
   "metadata": {},
   "source": [
    "## 5.2 Evaluation des algorithmes \n",
    "Pour chaque instance générée, nous allons lancer la résolution de cette instance avec les 3 algorithmes et nous allons évaluer le temps d'execution de ces algorithmes. "
   ]
  },
  {
   "cell_type": "code",
   "execution_count": 259,
   "metadata": {},
   "outputs": [
    {
     "name": "stdout",
     "output_type": "stream",
     "text": [
      "Values1: {0: 82, 1: 41, 2: 66, 3: 2, 4: 58}\n",
      "Weights1: {0: 35, 1: 74, 2: 72, 3: 16, 4: 54}\n",
      "Capacity: 125\n",
      "debut de Astar\n",
      "Shortest path: [0, 2, 4, 5, 7]\n",
      "Total cost: 2.515151515151515\n"
     ]
    }
   ],
   "source": [
    "weights1, values1 = random_objects(5,100,100)\n",
    "capacity = sum(weights1.values()) // 2\n",
    "\n",
    "print(\"Values1:\", values1)\n",
    "print(\"Weights1:\", weights1)\n",
    "print(\"Capacity:\", capacity)\n",
    "\n",
    "\n",
    "# résolution avec l'algorithme A* \n",
    "print(\"debut de Astar\")\n",
    "\n",
    "KP = knapsack_graph(values1,weights1,capacity)\n",
    "KP.explore_state(0,0,0)\n",
    "A = Astar(KP.graph, start_node, goal_node)\n",
    "\n",
    "\n",
    "\n",
    "if A.launch():\n",
    "    path, cost = A.launch()\n",
    "    print(\"Shortest path:\", path)\n",
    "    print(\"Total cost:\", cost)\n",
    "else:\n",
    "    print(\"No path found.\")\n",
    "\n"
   ]
  },
  {
   "cell_type": "code",
   "execution_count": 279,
   "metadata": {},
   "outputs": [
    {
     "name": "stdout",
     "output_type": "stream",
     "text": [
      "Nombre d'objets  5\n",
      "temps Astar 0.0\n",
      "temps AG 0.013000011444091797\n",
      "temps AG 0.0\n",
      "Nombre d'objets  10\n",
      "temps Astar 0.0\n",
      "temps AG 0.016002655029296875\n",
      "temps AG 0.0009999275207519531\n",
      "Nombre d'objets  15\n",
      "temps Astar 0.01251983642578125\n",
      "temps AG 0.020029783248901367\n",
      "temps AG 0.024997949600219727\n",
      "Nombre d'objets  20\n",
      "temps Astar 0.3768641948699951\n",
      "temps AG 0.018008708953857422\n",
      "temps AG 0.9420661926269531\n",
      "Nombre d'objets  25\n",
      "temps Astar 12.41123366355896\n",
      "temps AG 0.02253866195678711\n",
      "temps AG 27.706119298934937\n",
      "A* [0.0, 0.0, 0.01251983642578125, 0.3768641948699951, 12.41123366355896]\n",
      "AG [0.013000011444091797, 0.016002655029296875, 0.020029783248901367, 0.018008708953857422, 0.02253866195678711]\n",
      "AB [0.0, 0.0009999275207519531, 0.024997949600219727, 0.9420661926269531, 27.706119298934937]\n"
     ]
    }
   ],
   "source": [
    "import time\n",
    "instance_size = [5, 10, 15, 20, 25]\n",
    "num_instances = 10\n",
    "\n",
    "Astar_time = [[0] * len(instance_size) for _ in range(len(instance_size))]\n",
    "AG_time = [[0] * len(instance_size) for _ in range(len(instance_size))]\n",
    "alpha_beta_time = [[0] * len(instance_size) for _ in range(len(instance_size))]\n",
    "\n",
    "for _ in range(len(instance_size)):\n",
    "    nb_objects = instance_size[_]\n",
    "    weights, values = random_objects(nb_objects,100,100)\n",
    "    capacity = sum(weights1.values()) // 2\n",
    "    \n",
    "    print (\"Nombre d'objets \", nb_objects)\n",
    "\n",
    "    # résolution avec l'algorithme A* \n",
    "    temps_debut = time.time()\n",
    "    KP = knapsack_graph(values,weights,capacity)\n",
    "    KP.explore_state(0,0,0)\n",
    "    A = Astar(KP.graph, start_node, goal_node)\n",
    "    path, cost = A.launch()\n",
    "    temps_fin = time.time()\n",
    "\n",
    "    Astar_time[_] = temps_fin - temps_debut\n",
    "\n",
    "    print('temps Astar', str(Astar_time[_]))\n",
    "\n",
    "    # résolution avec l'algorithme génétique\n",
    "    temps_debut = time.time()\n",
    "    population_size = 50\n",
    "    generations_size = 100\n",
    "    crossover_rate = 0.8\n",
    "    mutation_rate = 0.2\n",
    "    AG_knapsack = AG(values, weights, capacity, population_size, generations_size, crossover_rate, mutation_rate)\n",
    "    best_solution = AG_knapsack.launch()\n",
    "    temps_fin = time.time()\n",
    "\n",
    "    AG_time[_] = temps_fin - temps_debut\n",
    "\n",
    "    print('temps AG', str(AG_time[_]))\n",
    "\n",
    "    # résolution avec alpha beta \n",
    "    temps_debut = time.time()\n",
    "    alpha_beta_instance = AlphaBeta(values, weights)\n",
    "    result = alpha_beta_instance.pruning(len(values),capacity, 0, False)\n",
    "    temps_fin = time.time()\n",
    "\n",
    "    alpha_beta_time[_] = temps_fin - temps_debut\n",
    "    print('temps AB', str(alpha_beta_time[_]))\n",
    "    \n",
    "\n",
    "print(\"A*\", Astar_time)\n",
    "print(\"AG\", AG_time)\n",
    "print(\"AB\", alpha_beta_time)"
   ]
  },
  {
   "cell_type": "code",
   "execution_count": 296,
   "metadata": {},
   "outputs": [
    {
     "data": {
      "image/png": "[encoded data removed]",
      "text/plain": [
       "<Figure size 640x480 with 1 Axes>"
      ]
     },
     "metadata": {},
     "output_type": "display_data"
    }
   ],
   "source": [
    "import numpy as np\n",
    "data1 = Astar_time\n",
    "data2 = AG_time\n",
    "data3 = alpha_beta_time \n",
    "\n",
    "labels = ['5', '10', '15', '20', '25']\n",
    "\n",
    "# Calculate means and standard deviations for each algorithm\n",
    "a_star_mean, Astar_std = np.mean(Astar_time), np.std(Astar_time)\n",
    "ag_mean, AG_std = np.mean(AG_time), np.std(AG_time)\n",
    "ab_mean, alpha_beta_std = np.mean(alpha_beta_time), np.std(alpha_beta_time)\n",
    "\n",
    "# Plotting\n",
    "plt.errorbar(labels, Astar_time, yerr= Astar_std, label='A*', marker='o')\n",
    "plt.errorbar(labels, AG_time, yerr=AG_std, label='AG', marker='o')\n",
    "plt.errorbar(labels, alpha_beta_time, yerr=alpha_beta_std, label='AB', marker='o')\n",
    "\n",
    "# Add labels and title\n",
    "plt.xlabel('Run')\n",
    "plt.ylabel('Execution Time')\n",
    "plt.title('Variation of Execution Time for Different Algorithms Instance Groupe 1')\n",
    "\n",
    "# Add legend\n",
    "plt.legend()\n",
    "\n",
    "# Show the plot\n",
    "plt.show()"
   ]
  },
  {
   "attachments": {},
   "cell_type": "markdown",
   "metadata": {},
   "source": [
    "Nous remarquons que lorsqu'on augmente le nombre d’objets, on commence à voir apparaître quelques différences entre le nombre d’instances résolues par chaque algorithme."
   ]
  },
  {
   "cell_type": "code",
   "execution_count": 294,
   "metadata": {},
   "outputs": [
    {
     "name": "stdout",
     "output_type": "stream",
     "text": [
      "Nombre d'objets  5\n",
      "temps Astar 0.0\n",
      "temps AG 0.011995315551757812\n",
      "temps AB 0.0\n",
      "Nombre d'objets  10\n",
      "temps Astar 0.0010037422180175781\n",
      "temps AG 0.015088081359863281\n",
      "temps AB 0.0009953975677490234\n",
      "Nombre d'objets  15\n",
      "temps Astar 0.011869192123413086\n",
      "temps AG 0.018207550048828125\n",
      "temps AB 0.028496980667114258\n",
      "Nombre d'objets  20\n",
      "temps Astar 0.3909027576446533\n",
      "temps AG 0.02469658851623535\n",
      "temps AB 0.9990241527557373\n",
      "Nombre d'objets  25\n",
      "temps Astar 12.249751806259155\n",
      "temps AG 0.02346038818359375\n",
      "temps AB 30.129070281982422\n",
      "A* [0.0, 0.0010037422180175781, 0.011869192123413086, 0.3909027576446533, 12.249751806259155]\n",
      "AG [0.011995315551757812, 0.015088081359863281, 0.018207550048828125, 0.02469658851623535, 0.02346038818359375]\n",
      "AB [0.0, 0.0009953975677490234, 0.028496980667114258, 0.9990241527557373, 30.129070281982422]\n"
     ]
    }
   ],
   "source": [
    "import time\n",
    "instance_size = [5, 10, 15, 20, 25]\n",
    "num_instances = 10\n",
    "\n",
    "Astar_time = [[0] * len(instance_size) for _ in range(len(instance_size))]\n",
    "AG_time = [[0] * len(instance_size) for _ in range(len(instance_size))]\n",
    "alpha_beta_time = [[0] * len(instance_size) for _ in range(len(instance_size))]\n",
    "\n",
    "for _ in range(len(instance_size)):\n",
    "    nb_objects = instance_size[_]\n",
    "    weights, values = random_objects_correlated(nb_objects,100)\n",
    "    capacity = sum(weights1.values()) // 2\n",
    "    \n",
    "    print (\"Nombre d'objets \", nb_objects)\n",
    "\n",
    "    # résolution avec l'algorithme A* \n",
    "    temps_debut = time.time()\n",
    "    KP = knapsack_graph(values,weights,capacity)\n",
    "    KP.explore_state(0,0,0)\n",
    "    A = Astar(KP.graph, start_node, goal_node)\n",
    "    path, cost = A.launch()\n",
    "    temps_fin = time.time()\n",
    "\n",
    "    Astar_time[_] = temps_fin - temps_debut\n",
    "\n",
    "    print('temps Astar', str(Astar_time[_]))\n",
    "\n",
    "    # résolution avec l'algorithme génétique\n",
    "    temps_debut = time.time()\n",
    "    population_size = 50\n",
    "    generations_size = 100\n",
    "    crossover_rate = 0.8\n",
    "    mutation_rate = 0.2\n",
    "    AG_knapsack = AG(values, weights, capacity, population_size, generations_size, crossover_rate, mutation_rate)\n",
    "    best_solution = AG_knapsack.launch()\n",
    "    temps_fin = time.time()\n",
    "\n",
    "    AG_time[_] = temps_fin - temps_debut\n",
    "\n",
    "    print('temps AG', str(AG_time[_]))\n",
    "\n",
    "    # résolution avec alpha beta \n",
    "    temps_debut = time.time()\n",
    "    alpha_beta_instance = AlphaBeta(values, weights)\n",
    "    result = alpha_beta_instance.pruning(len(values),capacity, 0, False)\n",
    "    temps_fin = time.time()\n",
    "\n",
    "    alpha_beta_time[_] = temps_fin - temps_debut\n",
    "    print('temps AB', str(alpha_beta_time[_]))\n",
    "    \n",
    "\n",
    "print(\"A*\", Astar_time)\n",
    "print(\"AG\", AG_time)\n",
    "print(\"AB\", alpha_beta_time)"
   ]
  },
  {
   "cell_type": "code",
   "execution_count": 297,
   "metadata": {},
   "outputs": [
    {
     "data": {
      "image/png": "[encoded data removed]",
      "text/plain": [
       "<Figure size 640x480 with 1 Axes>"
      ]
     },
     "metadata": {},
     "output_type": "display_data"
    }
   ],
   "source": [
    "import numpy as np\n",
    "data1 = Astar_time\n",
    "data2 = AG_time\n",
    "data3 = alpha_beta_time \n",
    "\n",
    "labels = ['5', '10', '15', '20', '25']\n",
    "\n",
    "# Calculate means and standard deviations for each algorithm\n",
    "a_star_mean, Astar_std = np.mean(Astar_time), np.std(Astar_time)\n",
    "ag_mean, AG_std = np.mean(AG_time), np.std(AG_time)\n",
    "ab_mean, alpha_beta_std = np.mean(alpha_beta_time), np.std(alpha_beta_time)\n",
    "\n",
    "# Plotting\n",
    "plt.errorbar(labels, Astar_time, yerr= Astar_std, label='A*', marker='o')\n",
    "plt.errorbar(labels, AG_time, yerr=AG_std, label='AG', marker='o')\n",
    "plt.errorbar(labels, alpha_beta_time, yerr=alpha_beta_std, label='AB', marker='o')\n",
    "\n",
    "# Add labels and title\n",
    "plt.xlabel('Run')\n",
    "plt.ylabel('Execution Time')\n",
    "plt.title('Variation of Execution Time for Different Algorithms Instance Groupe 2')\n",
    "\n",
    "# Add legend\n",
    "plt.legend()\n",
    "\n",
    "# Show the plot\n",
    "plt.show()"
   ]
  },
  {
   "attachments": {},
   "cell_type": "markdown",
   "metadata": {},
   "source": [
    "Nous remarquons que l'algorithme génétique est le plus rapide\n",
    "\n",
    "Analysons son comportement en allant plus loin"
   ]
  },
  {
   "attachments": {},
   "cell_type": "markdown",
   "metadata": {},
   "source": [
    "## 5.3 Discussion sur l'algorithme génétique "
   ]
  },
  {
   "cell_type": "code",
   "execution_count": 301,
   "metadata": {},
   "outputs": [
    {
     "name": "stdout",
     "output_type": "stream",
     "text": [
      "Nombre d'objets  30\n",
      "temps AG 0.026000022888183594\n",
      "Nombre d'objets  40\n",
      "temps AG 0.0290682315826416\n",
      "Nombre d'objets  50\n",
      "temps AG 0.042037010192871094\n",
      "Nombre d'objets  60\n",
      "temps AG 0.03903007507324219\n",
      "Nombre d'objets  70\n",
      "temps AG 0.04377555847167969\n",
      "Nombre d'objets  80\n",
      "temps AG 0.0509793758392334\n",
      "Nombre d'objets  90\n",
      "temps AG 0.057894229888916016\n"
     ]
    }
   ],
   "source": [
    "instance_size = [30,40,50,60,70,80,90]\n",
    "\n",
    "AG_time = [[0] * len(instance_size) for _ in range(len(instance_size))]\n",
    "alpha_beta_time = [[0] * len(instance_size) for _ in range(len(instance_size))]\n",
    "\n",
    "for _ in range(len(instance_size)):\n",
    "    nb_objects = instance_size[_]\n",
    "    weights, values = random_objects_correlated(nb_objects,100)\n",
    "    capacity = sum(weights1.values()) // 2\n",
    "    \n",
    "    print (\"Nombre d'objets \", nb_objects)\n",
    "\n",
    "    # résolution avec l'algorithme génétique\n",
    "    temps_debut = time.time()\n",
    "    population_size = 50\n",
    "    generations_size = 100\n",
    "    crossover_rate = 0.8\n",
    "    mutation_rate = 0.2\n",
    "    AG_knapsack = AG(values, weights, capacity, population_size, generations_size, crossover_rate, mutation_rate)\n",
    "    best_solution = AG_knapsack.launch()\n",
    "    temps_fin = time.time()\n",
    "\n",
    "    AG_time[_] = temps_fin - temps_debut\n",
    "\n",
    "    print('temps AG', str(AG_time[_]))"
   ]
  },
  {
   "cell_type": "code",
   "execution_count": 303,
   "metadata": {},
   "outputs": [
    {
     "data": {
      "image/png": "[encoded data removed]",
      "text/plain": [
       "<Figure size 640x480 with 1 Axes>"
      ]
     },
     "metadata": {},
     "output_type": "display_data"
    }
   ],
   "source": [
    "import numpy as np\n",
    "data1 = Astar_time\n",
    "data2 = AG_time\n",
    "data3 = alpha_beta_time \n",
    "\n",
    "labels = ['30', '40', '50', '60', '70', '80', '90']\n",
    "\n",
    "# Calculate means and standard deviations for each algorithm\n",
    "ag_mean, AG_std = np.mean(AG_time), np.std(AG_time)\n",
    "\n",
    "# Plotting\n",
    "plt.errorbar(labels, AG_time, yerr=AG_std, label='AG', marker='o')\n",
    "\n",
    "# Add labels and title\n",
    "plt.xlabel('Run')\n",
    "plt.ylabel('Execution Time')\n",
    "plt.title('Variation of Execution Time for the genetic algorithm Groupe 2')\n",
    "\n",
    "# Add legend\n",
    "plt.legend()\n",
    "\n",
    "# Show the plot\n",
    "plt.show()"
   ]
  },
  {
   "attachments": {},
   "cell_type": "markdown",
   "metadata": {},
   "source": [
    "Nous remarquons que le temps d'execution du programme augmente en fonction de la taille de l'instance. Mais le temps d'execution reste acceptable vu qu'il s'agit d'un problème NP-difficile. "
   ]
  }
 ],
 "metadata": {
  "kernelspec": {
   "display_name": "Python 3",
   "language": "python",
   "name": "python3"
  },
  "language_info": {
   "codemirror_mode": {
    "name": "ipython",
    "version": 3
   },
   "file_extension": ".py",
   "mimetype": "text/x-python",
   "name": "python",
   "nbconvert_exporter": "python",
   "pygments_lexer": "ipython3",
   "version": "3.11.4"
  },
  "orig_nbformat": 4
 },
 "nbformat": 4,
 "nbformat_minor": 2
}
